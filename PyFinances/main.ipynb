{
 "cells": [
  {
   "cell_type": "code",
   "execution_count": 43,
   "metadata": {},
   "outputs": [],
   "source": [
    "#Import the libraries needed\n",
    "import os\n",
    "import csv"
   ]
  },
  {
   "cell_type": "code",
   "execution_count": 44,
   "metadata": {},
   "outputs": [],
   "source": [
    "#Establish connection with data source\n",
    "cvspath_read=os.path.join(\"Resources\",\"budget_data.csv\")\n",
    "with open(cvspath_read,\"r\",encoding=\"UTF-8\") as csvfile:\n",
    "    csvreader=csv.reader(csvfile,delimiter=\",\")\n",
    "    header=next(csvreader)\n",
    "    \n",
    "    #Define output variables\n",
    "    profits_greatest_increase=[0,\"\"]\n",
    "    profits_greatest_decrease=[0,\"\"]\n",
    "    previous_month=next(csvreader)\n",
    "    total_profits=int(previous_month[0])\n",
    "    month_count=1\n",
    "    sum_of_change=0\n",
    "    \n",
    "    #Perform calculations\n",
    "    for row in csvreader:\n",
    "        total_profits+=int(row[0])\n",
    "        month_count+=1\n",
    "        profits_delta=int(row[0])-int(previous_month[0])\n",
    "        if int(profits_delta)>int(profits_greatest_increase[0]):\n",
    "            profits_greatest_increase=[profits_delta,row[1]]\n",
    "        if int(profits_delta)<int(profits_greatest_decrease[0]):\n",
    "            profits_greatest_decrease=[profits_delta,row[1]]\n",
    "        sum_of_change+=profits_delta\n",
    "        previous_month=row"
   ]
  },
  {
   "cell_type": "code",
   "execution_count": 45,
   "metadata": {},
   "outputs": [
    {
     "name": "stdout",
     "output_type": "stream",
     "text": [
      "\n",
      "Financial Analysis\n",
      "-------------------------------\n",
      "Total Months: 86\n",
      "Total: $38382578\n",
      "Average Change: $-2315.12\n",
      "Greatest Increase in Profits: Feb-2012 ($1926159)\n",
      "Greatest Decrease in Profits: Sep-2013 ($-2196167)\n",
      "\n"
     ]
    }
   ],
   "source": [
    "#Print results\n",
    "print(f\"\"\"\n",
    "Financial Analysis\n",
    "-------------------------------\n",
    "Total Months: {month_count}\n",
    "Total: ${total_profits}\n",
    "Average Change: ${round(sum_of_change/(month_count-1),2)}\n",
    "Greatest Increase in Profits: {profits_greatest_increase[1]} (${profits_greatest_increase[0]})\n",
    "Greatest Decrease in Profits: {profits_greatest_decrease[1]} (${profits_greatest_decrease[0]})\n",
    "\"\"\")    "
   ]
  },
  {
   "cell_type": "code",
   "execution_count": 41,
   "metadata": {},
   "outputs": [],
   "source": [
    "#Export Results\n",
    "cvspath_write=os.path.join(\"Results.csv\")\n",
    "with open(cvspath_write,\"w\",newline='') as csvfile:\n",
    "    csvwriter=csv.writer(csvfile,delimiter=\",\")\n",
    "    csvwriter.writerow([\"Financial Analysis\"])\n",
    "    csvwriter.writerow([\"-------------------------------\"])\n",
    "    csvwriter.writerow([f\"Total Months: {month_count}\"])\n",
    "    csvwriter.writerow([f\"Total: ${total_profits}\"])\n",
    "    csvwriter.writerow([f\"Average Change: ${round(sum_of_change/(month_count-1),2)}\"])\n",
    "    csvwriter.writerow([f\"Greatest Increase in Profits: {profits_greatest_increase[1]} (${profits_greatest_increase[0]})\"])\n",
    "    csvwriter.writerow([f\"Greatest Decrease in Profits: {profits_greatest_decrease[1]} (${profits_greatest_decrease[0]})\"])\n",
    "\n",
    "\n",
    "    "
   ]
  },
  {
   "cell_type": "code",
   "execution_count": null,
   "metadata": {},
   "outputs": [],
   "source": []
  }
 ],
 "metadata": {
  "kernelspec": {
   "display_name": "Python 3.7.4 64-bit ('base': conda)",
   "language": "python",
   "name": "python37464bitbasecondaebc7325974e641c78342335c88d5ccce"
  },
  "language_info": {
   "codemirror_mode": {
    "name": "ipython",
    "version": 3
   },
   "file_extension": ".py",
   "mimetype": "text/x-python",
   "name": "python",
   "nbconvert_exporter": "python",
   "pygments_lexer": "ipython3",
   "version": "3.7.4"
  }
 },
 "nbformat": 4,
 "nbformat_minor": 2
}
