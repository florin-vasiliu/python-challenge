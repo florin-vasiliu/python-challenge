{
 "cells": [
  {
   "cell_type": "code",
   "execution_count": 113,
   "metadata": {},
   "outputs": [],
   "source": [
    "#Import the libraries needed\n",
    "import os\n",
    "import csv\n",
    "from operator import itemgetter"
   ]
  },
  {
   "cell_type": "code",
   "execution_count": 114,
   "metadata": {},
   "outputs": [],
   "source": [
    "cvspath_read=os.path.join(\"test\",\"Test.csv\")\n",
    "\n",
    "#generate an table with columns distinct_candidates,total_votes\n",
    "#accrual of total_votes\n",
    "candidate_table={}\n",
    "total_votes=0\n",
    "with open(cvspath_read,\"r\") as csvfile:\n",
    "    csvreader=csv.reader(csvfile,delimiter=\",\")\n",
    "    header=next(csvreader)\n",
    "    for row in csvreader:\n",
    "        total_votes+=1\n",
    "        if row[0] not in candidate_table.keys():\n",
    "            candidate_table[row[0]]=1\n",
    "        else:\n",
    "            for key in candidate_table.keys():\n",
    "                if key==row[0]:\n",
    "                    candidate_table[key]+=1\n",
    "#    print(candidate_table)\n",
    "#print(total_votes)"
   ]
  },
  {
   "cell_type": "code",
   "execution_count": 115,
   "metadata": {},
   "outputs": [],
   "source": [
    "#Sort by number of votes\n",
    "sorted_candidate_tuples=sorted(candidate_table.items(), key=lambda candidate: candidate[1],reverse=True)\n",
    "#print(sorted_candidate_tuples)"
   ]
  },
  {
   "cell_type": "code",
   "execution_count": 116,
   "metadata": {},
   "outputs": [
    {
     "name": "stdout",
     "output_type": "stream",
     "text": [
      "\n",
      "Houston Mayoral Election Results\n",
      "-----------------------------------------\n",
      "Total Cast Votes: 20\n",
      "-----------------------------------------\n",
      "Sylvester Turner: 40.0% (8)\n",
      "Tony Buzbee: 25.0% (5)\n",
      "Bill King: 20.0% (4)\n",
      "Dwight A. Boykins: 10.0% (2)\n",
      "Victoria Romero: 5.0% (1)\n",
      "\n",
      "-----------------------------------------\n",
      "1'st Advancing Candidate: Sylvester Turner\n",
      "2'nd Advancing Candidate: Tony Buzbee\n",
      "-----------------------------------------\n"
     ]
    }
   ],
   "source": [
    "#Print summary\n",
    "print(f\"\"\"\n",
    "Houston Mayoral Election Results\n",
    "-----------------------------------------\n",
    "Total Cast Votes: {total_votes}\n",
    "-----------------------------------------\"\"\")\n",
    "\n",
    "for row in sorted_candidate_tuples:\n",
    "    print(f\"{row[0]}: {round(int(row[1])/total_votes*100,2)}% ({row[1]})\")\n",
    "print(f\"\"\"\n",
    "-----------------------------------------\n",
    "1'st Advancing Candidate: {sorted_candidate_tuples[0][0]}\n",
    "2'nd Advancing Candidate: {sorted_candidate_tuples[1][0]}\n",
    "-----------------------------------------\"\"\")"
   ]
  },
  {
   "cell_type": "code",
   "execution_count": 134,
   "metadata": {},
   "outputs": [
    {
     "name": "stdout",
     "output_type": "stream",
     "text": [
      "['Sylvester Turner', 8, 40.0]\n",
      "['Tony Buzbee', 5, 25.0]\n",
      "['Bill King', 4, 20.0]\n",
      "['Dwight A. Boykins', 2, 10.0]\n",
      "['Victoria Romero', 1, 5.0]\n"
     ]
    }
   ],
   "source": [
    "#Write into file Results.csv\n",
    "cvspath_write=os.path.join(\"test\",\"Results.csv\")\n",
    "with open(cvspath_write,\"w\",newline='') as csvfile:\n",
    "    csvwriter=csv.writer(csvfile,delimiter=\",\")\n",
    "    csvwriter.writerow([\"Candidate Name\",\"Total Votes[#]\",\"Total Votes[%]\"])\n",
    "    for row in sorted_candidate_tuples:\n",
    "        csvwriter.writerow([row[0],row[1],round(int(row[1])/total_votes*100,2)])\n",
    "        print([row[0],row[1],round(int(row[1])/total_votes*100,2)])\n",
    "     \n",
    "    "
   ]
  },
  {
   "cell_type": "code",
   "execution_count": null,
   "metadata": {},
   "outputs": [],
   "source": []
  }
 ],
 "metadata": {
  "kernelspec": {
   "display_name": "Python 3.7.4 64-bit ('base': conda)",
   "language": "python",
   "name": "python37464bitbasecondaebc7325974e641c78342335c88d5ccce"
  },
  "language_info": {
   "codemirror_mode": {
    "name": "ipython",
    "version": 3
   },
   "file_extension": ".py",
   "mimetype": "text/x-python",
   "name": "python",
   "nbconvert_exporter": "python",
   "pygments_lexer": "ipython3",
   "version": "3.7.4"
  }
 },
 "nbformat": 4,
 "nbformat_minor": 2
}
