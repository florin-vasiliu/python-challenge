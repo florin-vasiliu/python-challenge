{
 "cells": [
  {
   "cell_type": "code",
   "execution_count": 8,
   "metadata": {},
   "outputs": [],
   "source": [
    "#Import the libraries needed\n",
    "import os\n",
    "import csv"
   ]
  },
  {
   "cell_type": "code",
   "execution_count": 9,
   "metadata": {},
   "outputs": [],
   "source": [
    "cvspath_read=os.path.join(\"Resources\",\"houston_election_data.csv\")\n",
    "\n",
    "#generate an table with columns distinct_candidates,total_votes\n",
    "#accrual of total_votes\n",
    "candidate_table={}\n",
    "total_votes=0\n",
    "with open(cvspath_read,\"r\",encoding=\"UTF-8\") as csvfile:\n",
    "    csvreader=csv.reader(csvfile,delimiter=\",\")\n",
    "    header=next(csvreader)\n",
    "    for row in csvreader:\n",
    "        total_votes+=1\n",
    "        if row[0] not in candidate_table.keys():\n",
    "            candidate_table[row[0]]=1\n",
    "        else:\n",
    "            for key in candidate_table.keys():\n",
    "                if key==row[0]:\n",
    "                    candidate_table[key]+=1\n",
    "#    print(candidate_table)\n",
    "#print(total_votes)"
   ]
  },
  {
   "cell_type": "code",
   "execution_count": 10,
   "metadata": {},
   "outputs": [],
   "source": [
    "#Sort by number of votes\n",
    "sorted_candidate_tuples=sorted(candidate_table.items(), key=lambda candidate: candidate[1],reverse=True)\n",
    "#print(sorted_candidate_tuples)"
   ]
  },
  {
   "cell_type": "code",
   "execution_count": 11,
   "metadata": {},
   "outputs": [
    {
     "name": "stdout",
     "output_type": "stream",
     "text": [
      "\n",
      "Houston Mayoral Election Results\n",
      "-----------------------------------------\n",
      "Total Cast Votes: 241032\n",
      "-----------------------------------------\n",
      "Sylvester Turner: 46.38% (111789)\n",
      "Tony Buzbee: 28.78% (69361)\n",
      "Bill King: 14.01% (33772)\n",
      "Dwight A. Boykins: 5.9% (14212)\n",
      "Victoria Romero: 1.22% (2933)\n",
      "Sue Lovell: 1.22% (2932)\n",
      "Demetria Smith: 0.7% (1694)\n",
      "Roy J. Vasquez: 0.65% (1556)\n",
      "Kendall Baker: 0.41% (982)\n",
      "Derrick Broze: 0.28% (686)\n",
      "Naoufal Houjami: 0.23% (560)\n",
      "Johnny “J.T.” Taylor: 0.23% (555)\n",
      "\n",
      "-----------------------------------------\n",
      "1'st Advancing Candidate: Sylvester Turner\n",
      "2'nd Advancing Candidate: Tony Buzbee\n",
      "-----------------------------------------\n"
     ]
    }
   ],
   "source": [
    "#Print summary\n",
    "print(f\"\"\"\n",
    "Houston Mayoral Election Results\n",
    "-----------------------------------------\n",
    "Total Cast Votes: {total_votes}\n",
    "-----------------------------------------\"\"\")\n",
    "\n",
    "for row in sorted_candidate_tuples:\n",
    "    print(f\"{row[0]}: {round(int(row[1])/total_votes*100,2)}% ({row[1]})\")\n",
    "print(f\"\"\"\n",
    "-----------------------------------------\n",
    "1'st Advancing Candidate: {sorted_candidate_tuples[0][0]}\n",
    "2'nd Advancing Candidate: {sorted_candidate_tuples[1][0]}\n",
    "-----------------------------------------\"\"\")"
   ]
  },
  {
   "cell_type": "code",
   "execution_count": 12,
   "metadata": {},
   "outputs": [
    {
     "name": "stdout",
     "output_type": "stream",
     "text": [
      "['Sylvester Turner', 111789, 46.38]\n",
      "['Tony Buzbee', 69361, 28.78]\n",
      "['Bill King', 33772, 14.01]\n",
      "['Dwight A. Boykins', 14212, 5.9]\n",
      "['Victoria Romero', 2933, 1.22]\n",
      "['Sue Lovell', 2932, 1.22]\n",
      "['Demetria Smith', 1694, 0.7]\n",
      "['Roy J. Vasquez', 1556, 0.65]\n",
      "['Kendall Baker', 982, 0.41]\n",
      "['Derrick Broze', 686, 0.28]\n",
      "['Naoufal Houjami', 560, 0.23]\n",
      "['Johnny “J.T.” Taylor', 555, 0.23]\n"
     ]
    }
   ],
   "source": [
    "#Write into file Results.csv\n",
    "cvspath_write=os.path.join(\"Results.csv\")\n",
    "with open(cvspath_write,\"w\",newline='') as csvfile:\n",
    "    csvwriter=csv.writer(csvfile,delimiter=\",\")\n",
    "    csvwriter.writerow([\"Candidate Name\",\"Total Votes[#]\",\"Total Votes[%]\"])\n",
    "    for row in sorted_candidate_tuples:\n",
    "        csvwriter.writerow([row[0],row[1],round(int(row[1])/total_votes*100,2)])\n",
    "        print([row[0],row[1],round(int(row[1])/total_votes*100,2)])\n",
    "     \n",
    "    "
   ]
  },
  {
   "cell_type": "code",
   "execution_count": null,
   "metadata": {},
   "outputs": [],
   "source": []
  }
 ],
 "metadata": {
  "kernelspec": {
   "display_name": "Python 3.7.4 64-bit ('base': conda)",
   "language": "python",
   "name": "python37464bitbasecondaebc7325974e641c78342335c88d5ccce"
  },
  "language_info": {
   "codemirror_mode": {
    "name": "ipython",
    "version": 3
   },
   "file_extension": ".py",
   "mimetype": "text/x-python",
   "name": "python",
   "nbconvert_exporter": "python",
   "pygments_lexer": "ipython3",
   "version": "3.7.4"
  }
 },
 "nbformat": 4,
 "nbformat_minor": 2
}
