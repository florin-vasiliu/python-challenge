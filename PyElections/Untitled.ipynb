{
 "cells": [
  {
   "cell_type": "code",
   "execution_count": 32,
   "metadata": {},
   "outputs": [],
   "source": [
    "#Import the libraries needed\n",
    "import os\n",
    "import csv"
   ]
  },
  {
   "cell_type": "code",
   "execution_count": 47,
   "metadata": {},
   "outputs": [
    {
     "name": "stdout",
     "output_type": "stream",
     "text": [
      "[['Dwight A. Boykins', '3363684'], ['Bill King', '6114041'], ['Sylvester Turner', '9143483'], ['Bill King', '3122710'], ['Sylvester Turner', '6824440'], ['Tony Buzbee', '7836411'], ['Bill King', '9208684'], ['Sylvester Turner', '8194291'], ['Dwight A. Boykins', '6528938'], ['Sylvester Turner', '8402140'], ['Sylvester Turner', '1299337']]\n",
      "70038159\n"
     ]
    }
   ],
   "source": [
    "cvspath=os.path.join(\"test\",\"test.csv\")\n",
    "\n",
    "#generate an table with columns distinct_candidates,total_votes\n",
    "#accrual of total_votes\n",
    "candidate_table=[]\n",
    "total_votes=0\n",
    "with open(cvspath,\"r\") as csvfile:\n",
    "    csvreader=csv.reader(csvfile,delimiter=\",\")\n",
    "    header=next(csvreader)\n",
    "    for row in csvreader:\n",
    "        total_votes+=int(row[2])\n",
    "        if row[0] not in candidate:\n",
    "            candidate_table.append([row[0], row[2]]) \n",
    "        else:\n",
    "            for row_c in candidate_table:\n",
    "                if candidate_table[0]==row[0]:\n",
    "                    candidate_table[1]+=row[2]\n",
    "    print(candidate_table)\n",
    "print(total_votes)"
   ]
  },
  {
   "cell_type": "code",
   "execution_count": 28,
   "metadata": {},
   "outputs": [],
   "source": [
    "#Print summary\n",
    "print(f\"\"\"\n",
    "Houston Mayoral Election Results\n",
    "-----------------------------------------\n",
    "Total Cast Votes: {total_votes}\n",
    "-----------------------------------------\"\"\")\n",
    "for row in cn"
   ]
  },
  {
   "cell_type": "code",
   "execution_count": 20,
   "metadata": {},
   "outputs": [
    {
     "ename": "SyntaxError",
     "evalue": "invalid syntax (<ipython-input-20-03fe3b006658>, line 1)",
     "output_type": "error",
     "traceback": [
      "\u001b[1;36m  File \u001b[1;32m\"<ipython-input-20-03fe3b006658>\"\u001b[1;36m, line \u001b[1;32m1\u001b[0m\n\u001b[1;33m    summary_table={candidate[0] for row in csvreader : 1}\u001b[0m\n\u001b[1;37m                                                     ^\u001b[0m\n\u001b[1;31mSyntaxError\u001b[0m\u001b[1;31m:\u001b[0m invalid syntax\n"
     ]
    }
   ],
   "source": [
    "candidate_list=[candidate for candidate in row if ]"
   ]
  },
  {
   "cell_type": "code",
   "execution_count": null,
   "metadata": {},
   "outputs": [],
   "source": []
  }
 ],
 "metadata": {
  "kernelspec": {
   "display_name": "Python 3.7.4 64-bit ('base': conda)",
   "language": "python",
   "name": "python37464bitbasecondaebc7325974e641c78342335c88d5ccce"
  },
  "language_info": {
   "codemirror_mode": {
    "name": "ipython",
    "version": 3
   },
   "file_extension": ".py",
   "mimetype": "text/x-python",
   "name": "python",
   "nbconvert_exporter": "python",
   "pygments_lexer": "ipython3",
   "version": "3.7.4"
  }
 },
 "nbformat": 4,
 "nbformat_minor": 2
}
